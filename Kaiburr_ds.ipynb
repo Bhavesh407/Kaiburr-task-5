{
  "nbformat": 4,
  "nbformat_minor": 0,
  "metadata": {
    "colab": {
      "provenance": []
    },
    "kernelspec": {
      "name": "python3",
      "display_name": "Python 3"
    },
    "language_info": {
      "name": "python"
    }
  },
  "cells": [
    {
      "cell_type": "code",
      "execution_count": 1,
      "metadata": {
        "colab": {
          "base_uri": "https://localhost:8080/"
        },
        "id": "0bKaqSHG-mMK",
        "outputId": "cb3ce3d2-8615-440b-c265-72c0ab36f460"
      },
      "outputs": [
        {
          "output_type": "stream",
          "name": "stdout",
          "text": [
            "Mounted at /content/drive\n"
          ]
        }
      ],
      "source": [
        "from google.colab import drive\n",
        "drive.mount('/content/drive')"
      ]
    },
    {
      "cell_type": "code",
      "source": [
        "import pandas as pd\n",
        "import re\n",
        "import nltk\n",
        "from nltk.corpus import stopwords\n",
        "from sklearn.model_selection import train_test_split\n",
        "from sklearn.feature_extraction.text import TfidfVectorizer\n",
        "from sklearn.linear_model import LogisticRegression\n",
        "from sklearn.naive_bayes import MultinomialNB\n",
        "from sklearn.metrics import classification_report, confusion_matrix, accuracy_score\n",
        "import warnings\n",
        "\n",
        "warnings.filterwarnings('ignore')\n",
        "\n",
        "# Download the 'stopwords' list\n",
        "nltk.download('stopwords')\n",
        "stop_words = set(stopwords.words('english'))"
      ],
      "metadata": {
        "colab": {
          "base_uri": "https://localhost:8080/"
        },
        "id": "7Orqtxq0GyDM",
        "outputId": "531c8f33-e42c-4cae-b6a4-9bc1527c73de"
      },
      "execution_count": 2,
      "outputs": [
        {
          "output_type": "stream",
          "name": "stderr",
          "text": [
            "[nltk_data] Downloading package stopwords to /root/nltk_data...\n",
            "[nltk_data]   Unzipping corpora/stopwords.zip.\n"
          ]
        }
      ]
    },
    {
      "cell_type": "code",
      "source": [
        "file_path = '/content/drive/MyDrive/Kaiburr/complaints.csv'\n",
        "\n",
        "df = pd.read_csv(file_path)\n",
        "\n",
        "categories_to_keep = [\n",
        "    \"Credit reporting, repair, or other\",\n",
        "    \"Debt collection\",\n",
        "    \"Consumer Loan\",\n",
        "    \"Mortgage\"\n",
        "]\n",
        "\n",
        "\n",
        "df = df[df['Product'].isin(categories_to_keep)]\n",
        "\n",
        "df = df.dropna(subset=['Consumer complaint narrative'])\n",
        "\n",
        "category_map = {\n",
        "    \"Credit reporting, repair, or other\": 0,\n",
        "    \"Debt collection\": 1,\n",
        "    \"Consumer Loan\": 2,\n",
        "    \"Mortgage\": 3\n",
        "}\n",
        "df['category_id'] = df['Product'].map(category_map)\n",
        "\n",
        "df_final = df[['Consumer complaint narrative', 'category_id', 'Product']].copy()\n",
        "\n",
        "print(f\"Total complaints after filtering: {len(df_final)}\")\n",
        "print(df_final['Product'].value_counts())"
      ],
      "metadata": {
        "colab": {
          "base_uri": "https://localhost:8080/"
        },
        "id": "TjZWHRxiG57A",
        "outputId": "1095b2a0-4a17-47b1-e696-f6705b492531"
      },
      "execution_count": 4,
      "outputs": [
        {
          "output_type": "stream",
          "name": "stdout",
          "text": [
            "Total complaints after filtering: 516220\n",
            "Product\n",
            "Debt collection    371899\n",
            "Mortgage           134860\n",
            "Consumer Loan        9461\n",
            "Name: count, dtype: int64\n"
          ]
        }
      ]
    },
    {
      "cell_type": "code",
      "source": [
        "def preprocess_text(text):\n",
        "    text = text.lower()\n",
        "    text = re.sub(r'\\d+', '', text)\n",
        "    text = re.sub(r'[^\\w\\s]', '', text)\n",
        "    text = ' '.join(word for word in text.split() if word not in stop_words)\n",
        "    return text\n",
        "\n",
        "df_final['processed_text'] = df_final['Consumer complaint narrative'].apply(preprocess_text)\n",
        "\n",
        "print(\"Text processing complete.\")"
      ],
      "metadata": {
        "colab": {
          "base_uri": "https://localhost:8080/"
        },
        "id": "CHa8LaODHMbU",
        "outputId": "184dcef5-0489-4c38-935a-cba98d392582"
      },
      "execution_count": 5,
      "outputs": [
        {
          "output_type": "stream",
          "name": "stdout",
          "text": [
            "Text processing complete.\n"
          ]
        }
      ]
    },
    {
      "cell_type": "code",
      "source": [
        "X = df_final['processed_text']\n",
        "y = df_final['category_id']\n",
        "\n",
        "X_train, X_test, y_train, y_test = train_test_split(X, y, test_size=0.2, random_state=42)\n",
        "\n",
        "tfidf_vectorizer = TfidfVectorizer(max_features=5000)\n",
        "\n",
        "X_train_tfidf = tfidf_vectorizer.fit_transform(X_train)\n",
        "\n",
        "X_test_tfidf = tfidf_vectorizer.transform(X_test)\n",
        "\n",
        "print(\"Data split and vectorized.\")"
      ],
      "metadata": {
        "colab": {
          "base_uri": "https://localhost:8080/"
        },
        "id": "uPp0I4OmHWUA",
        "outputId": "9841088d-7057-4496-a096-4d7b8e2b294a"
      },
      "execution_count": 6,
      "outputs": [
        {
          "output_type": "stream",
          "name": "stdout",
          "text": [
            "Data split and vectorized.\n"
          ]
        }
      ]
    },
    {
      "cell_type": "code",
      "source": [
        "# Model 1: Logistic Regression\n",
        "print(\"Training Logistic Regression...\")\n",
        "lr_model = LogisticRegression(max_iter=1000)\n",
        "lr_model.fit(X_train_tfidf, y_train)\n",
        "lr_preds = lr_model.predict(X_test_tfidf)\n",
        "lr_accuracy = accuracy_score(y_test, lr_preds)\n",
        "print(f\"Logistic Regression Accuracy: {lr_accuracy * 100:.2f}%\")\n",
        "\n",
        "# Model 2: Multinomial Naive Bayes\n",
        "print(\"\\nTraining Multinomial Naive Bayes...\")\n",
        "nb_model = MultinomialNB()\n",
        "nb_model.fit(X_train_tfidf, y_train)\n",
        "nb_preds = nb_model.predict(X_test_tfidf)\n",
        "nb_accuracy = accuracy_score(y_test, nb_preds)\n",
        "print(f\"Naive Bayes Accuracy: {nb_accuracy * 100:.2f}%\")"
      ],
      "metadata": {
        "colab": {
          "base_uri": "https://localhost:8080/"
        },
        "id": "PZ3Ta9I_HYLg",
        "outputId": "14d569e4-0cc0-4daa-96ff-9e26a3be9709"
      },
      "execution_count": 7,
      "outputs": [
        {
          "output_type": "stream",
          "name": "stdout",
          "text": [
            "Training Logistic Regression...\n",
            "Logistic Regression Accuracy: 96.98%\n",
            "\n",
            "Training Multinomial Naive Bayes...\n",
            "Naive Bayes Accuracy: 95.21%\n"
          ]
        }
      ]
    },
    {
      "cell_type": "code",
      "source": [
        "print(\"\\n--- Logistic Regression Evaluation ---\")\n",
        "\n",
        "unique_labels = sorted(y_test.unique())\n",
        "\n",
        "target_names = [name for name, label in category_map.items() if label in unique_labels]\n",
        "print(classification_report(y_test, lr_preds, target_names=target_names, labels=unique_labels))"
      ],
      "metadata": {
        "colab": {
          "base_uri": "https://localhost:8080/"
        },
        "id": "8Y7zfN2JHaEI",
        "outputId": "ebd114b7-d8cb-4499-b066-1b11cbd41e77"
      },
      "execution_count": 9,
      "outputs": [
        {
          "output_type": "stream",
          "name": "stdout",
          "text": [
            "\n",
            "--- Logistic Regression Evaluation ---\n",
            "                 precision    recall  f1-score   support\n",
            "\n",
            "Debt collection       0.98      0.98      0.98     74103\n",
            "  Consumer Loan       0.78      0.52      0.63      1951\n",
            "       Mortgage       0.96      0.96      0.96     27190\n",
            "\n",
            "       accuracy                           0.97    103244\n",
            "      macro avg       0.91      0.82      0.86    103244\n",
            "   weighted avg       0.97      0.97      0.97    103244\n",
            "\n"
          ]
        }
      ]
    },
    {
      "cell_type": "code",
      "source": [
        "category_names = [\"Debt collection\", \"Consumer Loan\", \"Mortgage\"]\n",
        "\n",
        "new_complaint_text = \"I was overcharged on my mortgage payment, this is unacceptable!\"\n",
        "\n",
        "processed_new_text = preprocess_text(new_complaint_text)\n",
        "\n",
        "new_text_tfidf = tfidf_vectorizer.transform([processed_new_text])\n",
        "\n",
        "prediction = lr_model.predict(new_text_tfidf)\n",
        "predicted_category_id = prediction[0]\n",
        "\n",
        "try:\n",
        "    predicted_category_name = category_names[unique_labels.index(predicted_category_id)]\n",
        "except ValueError:\n",
        "\n",
        "    predicted_category_name = \"Unknown Category\"\n",
        "\n",
        "\n",
        "print(f\"\\n--- New Prediction ---\")\n",
        "print(f\"Complaint: '{new_complaint_text}'\")\n",
        "print(f\"Predicted Category: {predicted_category_name}\")"
      ],
      "metadata": {
        "colab": {
          "base_uri": "https://localhost:8080/"
        },
        "id": "60bi_EzdHb0Y",
        "outputId": "a2193b11-18fa-488d-c9ec-7938c8e87d7d"
      },
      "execution_count": 10,
      "outputs": [
        {
          "output_type": "stream",
          "name": "stdout",
          "text": [
            "\n",
            "--- New Prediction ---\n",
            "Complaint: 'I was overcharged on my mortgage payment, this is unacceptable!'\n",
            "Predicted Category: Mortgage\n"
          ]
        }
      ]
    }
  ]
}